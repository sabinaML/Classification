{
  "nbformat": 4,
  "nbformat_minor": 0,
  "metadata": {
    "colab": {
      "provenance": [],
      "mount_file_id": "1RIs4OKcQu-eeRlMGcvAyGC3DtrST1Bw1",
      "authorship_tag": "ABX9TyNb729RlnOSgzkx5YHHatqi",
      "include_colab_link": true
    },
    "kernelspec": {
      "name": "python3",
      "display_name": "Python 3"
    },
    "language_info": {
      "name": "python"
    }
  },
  "cells": [
    {
      "cell_type": "markdown",
      "metadata": {
        "id": "view-in-github",
        "colab_type": "text"
      },
      "source": [
        "<a href=\"https://colab.research.google.com/github/sabinaML/Classification/blob/main/%D0%9E%D1%86%D0%B5%D0%BD%D0%BA%D0%B0_%D1%82%D0%BE%D1%87%D0%BD%D0%BE%D1%81%D1%82%D0%B8_%D0%BC%D0%BE%D0%B4%D0%B5%D0%BB%D0%B8%2C_%D0%BF%D0%B5%D1%80%D0%B5%D0%BE%D0%B1%D1%83%D1%87%D0%B5%D0%BD%D0%B8%D0%B5%2C_%D1%80%D0%B5%D0%B3%D1%83%D0%BB%D1%8F%D1%80%D0%B8%D0%B7%D0%B0%D1%86%D0%B8%D1%8F.ipynb\" target=\"_parent\"><img src=\"https://colab.research.google.com/assets/colab-badge.svg\" alt=\"Open In Colab\"/></a>"
      ]
    },
    {
      "cell_type": "code",
      "execution_count": 64,
      "metadata": {
        "id": "fkClYJH52P4y"
      },
      "outputs": [],
      "source": [
        "import numpy as np\n",
        "import pandas as pd # Для работы с данными\n",
        "import scipy.stats # При работе со статистикой\n",
        "import matplotlib.pyplot as plt  # Библиотека для визуализации результатов \n",
        "import pandas as pd\n",
        "import numpy as np\n",
        "import matplotlib.pyplot as plt\n",
        "import seaborn as sns\n",
        "import random\n",
        "from sklearn.preprocessing import LabelEncoder\n",
        "from sklearn.model_selection import train_test_split\n",
        "from sklearn.linear_model import LogisticRegression\n",
        "from sklearn.metrics import recall_score, precision_score\n",
        "from sklearn.metrics import roc_curve\n",
        "from sklearn.metrics import roc_auc_score\n",
        "from sklearn.metrics import auc\n",
        "from sklearn.metrics import precision_recall_curve\n",
        "from sklearn.metrics import average_precision_score\n",
        "from sklearn.metrics import f1_score\n",
        "from sklearn.metrics import classification_report"
      ]
    },
    {
      "cell_type": "markdown",
      "source": [
        "Описание задания:\n",
        "Решить задачу классификации при помощи обучения модели логистической регрессии. Качество модели оценивается путем подсчета метрик TPR, FPR и построения графиков ROC-кривой, Precision-Recall. \n",
        "Этапы работы:\n",
        "\n",
        "Преобразуйте данные:\n",
        "a. проверьте наличие пропущенных значений. Преобразуйте/удалите пропуски по необходимости;\n",
        "b. закодируйте категориальные переменные числовыми значениями по необходимости.\n",
        "Разделите выборку на обучающее (80% данных) и тестовое (20% данных) подмножества.\n",
        "Постройте ROC-кривую с помощью функции sklearn.metrics. roc_curve.\n",
        "Вычислите значение ROC-AUC метрики с помощью функции sklearn.metrics.roc_auc_score.\n",
        "Реализуйте подсчет метрик TPR, FPR «вручную», без использования готовых функций из библиотеки sklearn.\n",
        "Постройте ROC-кривую с помощью вычисленных в п. 5 метрик: объедините графики из п. 3 и п. 6 в один. Сравните, сделайте вывод.\n",
        "Постройте график Precision-Recall, используя метрики, посчитанные в п. 5.\n",
        "*Вычислите значение ROC-AUC метрики, используя метрики, посчитанные в п. 5.\n",
        "Сформулируйте выводы по проделанной работе:\n",
        "a. как по полученным графикам сделать вывод о качестве модели? Как вы оцениваете обученную модель исходя из подсчитанных метрик?\n",
        "b. *может ли ROC-кривая проходить ниже диагонали?"
      ],
      "metadata": {
        "id": "rSpy5UuvK1Xr"
      }
    },
    {
      "cell_type": "code",
      "source": [
        "# считываем файл в дата фрейм\n",
        "df = pd.read_csv('/content/drive/MyDrive/athletes.csv')\n",
        "df"
      ],
      "metadata": {
        "id": "SVMDqZDm2g5r",
        "colab": {
          "base_uri": "https://localhost:8080/",
          "height": 424
        },
        "outputId": "169dd00e-018e-4787-bca0-2a823a374366"
      },
      "execution_count": 3,
      "outputs": [
        {
          "output_type": "execute_result",
          "data": {
            "text/plain": [
              "              id                name nationality     sex       dob  height  \\\n",
              "0      736041664      A Jesus Garcia         ESP    male  10/17/69    1.72   \n",
              "1      532037425          A Lam Shin         KOR  female   9/23/86    1.68   \n",
              "2      435962603         Aaron Brown         CAN    male   5/27/92    1.98   \n",
              "3      521041435          Aaron Cook         MDA    male    1/2/91    1.83   \n",
              "4       33922579          Aaron Gate         NZL    male  11/26/90    1.81   \n",
              "...          ...                 ...         ...     ...       ...     ...   \n",
              "11533  265605954  Zurian Hechavarria         CUB  female   8/10/95    1.64   \n",
              "11534  214461847      Zuzana Hejnova         CZE  female  12/19/86    1.73   \n",
              "11535   88361042             di Xiao         CHN    male   5/14/91    1.85   \n",
              "11536  900065925   le Quoc Toan Tran         VIE    male    4/5/89    1.60   \n",
              "11537  711404576      le Roux Hamman         RSA    male    1/6/92    1.85   \n",
              "\n",
              "       weight          sport  gold  silver  bronze  \n",
              "0        64.0      athletics     0       0       0  \n",
              "1        56.0        fencing     0       0       0  \n",
              "2        79.0      athletics     0       0       1  \n",
              "3        80.0      taekwondo     0       0       0  \n",
              "4        71.0        cycling     0       0       0  \n",
              "...       ...            ...   ...     ...     ...  \n",
              "11533    58.0      athletics     0       0       0  \n",
              "11534    63.0      athletics     0       0       0  \n",
              "11535   100.0      wrestling     0       0       0  \n",
              "11536    56.0  weightlifting     0       0       0  \n",
              "11537    70.0      athletics     0       0       0  \n",
              "\n",
              "[11538 rows x 11 columns]"
            ],
            "text/html": [
              "\n",
              "  <div id=\"df-99a00ab1-7c4d-4e1e-991d-a189af436001\">\n",
              "    <div class=\"colab-df-container\">\n",
              "      <div>\n",
              "<style scoped>\n",
              "    .dataframe tbody tr th:only-of-type {\n",
              "        vertical-align: middle;\n",
              "    }\n",
              "\n",
              "    .dataframe tbody tr th {\n",
              "        vertical-align: top;\n",
              "    }\n",
              "\n",
              "    .dataframe thead th {\n",
              "        text-align: right;\n",
              "    }\n",
              "</style>\n",
              "<table border=\"1\" class=\"dataframe\">\n",
              "  <thead>\n",
              "    <tr style=\"text-align: right;\">\n",
              "      <th></th>\n",
              "      <th>id</th>\n",
              "      <th>name</th>\n",
              "      <th>nationality</th>\n",
              "      <th>sex</th>\n",
              "      <th>dob</th>\n",
              "      <th>height</th>\n",
              "      <th>weight</th>\n",
              "      <th>sport</th>\n",
              "      <th>gold</th>\n",
              "      <th>silver</th>\n",
              "      <th>bronze</th>\n",
              "    </tr>\n",
              "  </thead>\n",
              "  <tbody>\n",
              "    <tr>\n",
              "      <th>0</th>\n",
              "      <td>736041664</td>\n",
              "      <td>A Jesus Garcia</td>\n",
              "      <td>ESP</td>\n",
              "      <td>male</td>\n",
              "      <td>10/17/69</td>\n",
              "      <td>1.72</td>\n",
              "      <td>64.0</td>\n",
              "      <td>athletics</td>\n",
              "      <td>0</td>\n",
              "      <td>0</td>\n",
              "      <td>0</td>\n",
              "    </tr>\n",
              "    <tr>\n",
              "      <th>1</th>\n",
              "      <td>532037425</td>\n",
              "      <td>A Lam Shin</td>\n",
              "      <td>KOR</td>\n",
              "      <td>female</td>\n",
              "      <td>9/23/86</td>\n",
              "      <td>1.68</td>\n",
              "      <td>56.0</td>\n",
              "      <td>fencing</td>\n",
              "      <td>0</td>\n",
              "      <td>0</td>\n",
              "      <td>0</td>\n",
              "    </tr>\n",
              "    <tr>\n",
              "      <th>2</th>\n",
              "      <td>435962603</td>\n",
              "      <td>Aaron Brown</td>\n",
              "      <td>CAN</td>\n",
              "      <td>male</td>\n",
              "      <td>5/27/92</td>\n",
              "      <td>1.98</td>\n",
              "      <td>79.0</td>\n",
              "      <td>athletics</td>\n",
              "      <td>0</td>\n",
              "      <td>0</td>\n",
              "      <td>1</td>\n",
              "    </tr>\n",
              "    <tr>\n",
              "      <th>3</th>\n",
              "      <td>521041435</td>\n",
              "      <td>Aaron Cook</td>\n",
              "      <td>MDA</td>\n",
              "      <td>male</td>\n",
              "      <td>1/2/91</td>\n",
              "      <td>1.83</td>\n",
              "      <td>80.0</td>\n",
              "      <td>taekwondo</td>\n",
              "      <td>0</td>\n",
              "      <td>0</td>\n",
              "      <td>0</td>\n",
              "    </tr>\n",
              "    <tr>\n",
              "      <th>4</th>\n",
              "      <td>33922579</td>\n",
              "      <td>Aaron Gate</td>\n",
              "      <td>NZL</td>\n",
              "      <td>male</td>\n",
              "      <td>11/26/90</td>\n",
              "      <td>1.81</td>\n",
              "      <td>71.0</td>\n",
              "      <td>cycling</td>\n",
              "      <td>0</td>\n",
              "      <td>0</td>\n",
              "      <td>0</td>\n",
              "    </tr>\n",
              "    <tr>\n",
              "      <th>...</th>\n",
              "      <td>...</td>\n",
              "      <td>...</td>\n",
              "      <td>...</td>\n",
              "      <td>...</td>\n",
              "      <td>...</td>\n",
              "      <td>...</td>\n",
              "      <td>...</td>\n",
              "      <td>...</td>\n",
              "      <td>...</td>\n",
              "      <td>...</td>\n",
              "      <td>...</td>\n",
              "    </tr>\n",
              "    <tr>\n",
              "      <th>11533</th>\n",
              "      <td>265605954</td>\n",
              "      <td>Zurian Hechavarria</td>\n",
              "      <td>CUB</td>\n",
              "      <td>female</td>\n",
              "      <td>8/10/95</td>\n",
              "      <td>1.64</td>\n",
              "      <td>58.0</td>\n",
              "      <td>athletics</td>\n",
              "      <td>0</td>\n",
              "      <td>0</td>\n",
              "      <td>0</td>\n",
              "    </tr>\n",
              "    <tr>\n",
              "      <th>11534</th>\n",
              "      <td>214461847</td>\n",
              "      <td>Zuzana Hejnova</td>\n",
              "      <td>CZE</td>\n",
              "      <td>female</td>\n",
              "      <td>12/19/86</td>\n",
              "      <td>1.73</td>\n",
              "      <td>63.0</td>\n",
              "      <td>athletics</td>\n",
              "      <td>0</td>\n",
              "      <td>0</td>\n",
              "      <td>0</td>\n",
              "    </tr>\n",
              "    <tr>\n",
              "      <th>11535</th>\n",
              "      <td>88361042</td>\n",
              "      <td>di Xiao</td>\n",
              "      <td>CHN</td>\n",
              "      <td>male</td>\n",
              "      <td>5/14/91</td>\n",
              "      <td>1.85</td>\n",
              "      <td>100.0</td>\n",
              "      <td>wrestling</td>\n",
              "      <td>0</td>\n",
              "      <td>0</td>\n",
              "      <td>0</td>\n",
              "    </tr>\n",
              "    <tr>\n",
              "      <th>11536</th>\n",
              "      <td>900065925</td>\n",
              "      <td>le Quoc Toan Tran</td>\n",
              "      <td>VIE</td>\n",
              "      <td>male</td>\n",
              "      <td>4/5/89</td>\n",
              "      <td>1.60</td>\n",
              "      <td>56.0</td>\n",
              "      <td>weightlifting</td>\n",
              "      <td>0</td>\n",
              "      <td>0</td>\n",
              "      <td>0</td>\n",
              "    </tr>\n",
              "    <tr>\n",
              "      <th>11537</th>\n",
              "      <td>711404576</td>\n",
              "      <td>le Roux Hamman</td>\n",
              "      <td>RSA</td>\n",
              "      <td>male</td>\n",
              "      <td>1/6/92</td>\n",
              "      <td>1.85</td>\n",
              "      <td>70.0</td>\n",
              "      <td>athletics</td>\n",
              "      <td>0</td>\n",
              "      <td>0</td>\n",
              "      <td>0</td>\n",
              "    </tr>\n",
              "  </tbody>\n",
              "</table>\n",
              "<p>11538 rows × 11 columns</p>\n",
              "</div>\n",
              "      <button class=\"colab-df-convert\" onclick=\"convertToInteractive('df-99a00ab1-7c4d-4e1e-991d-a189af436001')\"\n",
              "              title=\"Convert this dataframe to an interactive table.\"\n",
              "              style=\"display:none;\">\n",
              "        \n",
              "  <svg xmlns=\"http://www.w3.org/2000/svg\" height=\"24px\"viewBox=\"0 0 24 24\"\n",
              "       width=\"24px\">\n",
              "    <path d=\"M0 0h24v24H0V0z\" fill=\"none\"/>\n",
              "    <path d=\"M18.56 5.44l.94 2.06.94-2.06 2.06-.94-2.06-.94-.94-2.06-.94 2.06-2.06.94zm-11 1L8.5 8.5l.94-2.06 2.06-.94-2.06-.94L8.5 2.5l-.94 2.06-2.06.94zm10 10l.94 2.06.94-2.06 2.06-.94-2.06-.94-.94-2.06-.94 2.06-2.06.94z\"/><path d=\"M17.41 7.96l-1.37-1.37c-.4-.4-.92-.59-1.43-.59-.52 0-1.04.2-1.43.59L10.3 9.45l-7.72 7.72c-.78.78-.78 2.05 0 2.83L4 21.41c.39.39.9.59 1.41.59.51 0 1.02-.2 1.41-.59l7.78-7.78 2.81-2.81c.8-.78.8-2.07 0-2.86zM5.41 20L4 18.59l7.72-7.72 1.47 1.35L5.41 20z\"/>\n",
              "  </svg>\n",
              "      </button>\n",
              "      \n",
              "  <style>\n",
              "    .colab-df-container {\n",
              "      display:flex;\n",
              "      flex-wrap:wrap;\n",
              "      gap: 12px;\n",
              "    }\n",
              "\n",
              "    .colab-df-convert {\n",
              "      background-color: #E8F0FE;\n",
              "      border: none;\n",
              "      border-radius: 50%;\n",
              "      cursor: pointer;\n",
              "      display: none;\n",
              "      fill: #1967D2;\n",
              "      height: 32px;\n",
              "      padding: 0 0 0 0;\n",
              "      width: 32px;\n",
              "    }\n",
              "\n",
              "    .colab-df-convert:hover {\n",
              "      background-color: #E2EBFA;\n",
              "      box-shadow: 0px 1px 2px rgba(60, 64, 67, 0.3), 0px 1px 3px 1px rgba(60, 64, 67, 0.15);\n",
              "      fill: #174EA6;\n",
              "    }\n",
              "\n",
              "    [theme=dark] .colab-df-convert {\n",
              "      background-color: #3B4455;\n",
              "      fill: #D2E3FC;\n",
              "    }\n",
              "\n",
              "    [theme=dark] .colab-df-convert:hover {\n",
              "      background-color: #434B5C;\n",
              "      box-shadow: 0px 1px 3px 1px rgba(0, 0, 0, 0.15);\n",
              "      filter: drop-shadow(0px 1px 2px rgba(0, 0, 0, 0.3));\n",
              "      fill: #FFFFFF;\n",
              "    }\n",
              "  </style>\n",
              "\n",
              "      <script>\n",
              "        const buttonEl =\n",
              "          document.querySelector('#df-99a00ab1-7c4d-4e1e-991d-a189af436001 button.colab-df-convert');\n",
              "        buttonEl.style.display =\n",
              "          google.colab.kernel.accessAllowed ? 'block' : 'none';\n",
              "\n",
              "        async function convertToInteractive(key) {\n",
              "          const element = document.querySelector('#df-99a00ab1-7c4d-4e1e-991d-a189af436001');\n",
              "          const dataTable =\n",
              "            await google.colab.kernel.invokeFunction('convertToInteractive',\n",
              "                                                     [key], {});\n",
              "          if (!dataTable) return;\n",
              "\n",
              "          const docLinkHtml = 'Like what you see? Visit the ' +\n",
              "            '<a target=\"_blank\" href=https://colab.research.google.com/notebooks/data_table.ipynb>data table notebook</a>'\n",
              "            + ' to learn more about interactive tables.';\n",
              "          element.innerHTML = '';\n",
              "          dataTable['output_type'] = 'display_data';\n",
              "          await google.colab.output.renderOutput(dataTable, element);\n",
              "          const docLink = document.createElement('div');\n",
              "          docLink.innerHTML = docLinkHtml;\n",
              "          element.appendChild(docLink);\n",
              "        }\n",
              "      </script>\n",
              "    </div>\n",
              "  </div>\n",
              "  "
            ]
          },
          "metadata": {},
          "execution_count": 3
        }
      ]
    },
    {
      "cell_type": "code",
      "source": [
        "# в дата фрейме имеются пропуски в атрибутах weight и height\n",
        "df.info()"
      ],
      "metadata": {
        "colab": {
          "base_uri": "https://localhost:8080/"
        },
        "id": "QS7Z5ik33Pq7",
        "outputId": "92ea28cb-6be9-45ff-b5ca-041b02a4b227"
      },
      "execution_count": 23,
      "outputs": [
        {
          "output_type": "stream",
          "name": "stdout",
          "text": [
            "<class 'pandas.core.frame.DataFrame'>\n",
            "RangeIndex: 11538 entries, 0 to 11537\n",
            "Data columns (total 11 columns):\n",
            " #   Column       Non-Null Count  Dtype  \n",
            "---  ------       --------------  -----  \n",
            " 0   id           11538 non-null  int64  \n",
            " 1   name         11538 non-null  object \n",
            " 2   nationality  11538 non-null  object \n",
            " 3   sex          11538 non-null  object \n",
            " 4   dob          11537 non-null  object \n",
            " 5   height       11208 non-null  float64\n",
            " 6   weight       10879 non-null  float64\n",
            " 7   sport        11538 non-null  object \n",
            " 8   gold         11538 non-null  int64  \n",
            " 9   silver       11538 non-null  int64  \n",
            " 10  bronze       11538 non-null  int64  \n",
            "dtypes: float64(2), int64(4), object(5)\n",
            "memory usage: 991.7+ KB\n"
          ]
        }
      ]
    },
    {
      "cell_type": "code",
      "source": [
        "# обнуляем ячейки с отсутствием данных\n",
        "df=df.loc[df['height'].notnull() & df['weight'].notnull()]"
      ],
      "metadata": {
        "id": "q-Ccl6WOKzgU"
      },
      "execution_count": null,
      "outputs": []
    },
    {
      "cell_type": "code",
      "source": [
        "df.info()"
      ],
      "metadata": {
        "colab": {
          "base_uri": "https://localhost:8080/"
        },
        "id": "7rZ_lWxGQzAP",
        "outputId": "a7c96003-3f21-4463-96f0-6328ceaa6da2"
      },
      "execution_count": 29,
      "outputs": [
        {
          "output_type": "stream",
          "name": "stdout",
          "text": [
            "<class 'pandas.core.frame.DataFrame'>\n",
            "Int64Index: 10858 entries, 0 to 11537\n",
            "Data columns (total 11 columns):\n",
            " #   Column       Non-Null Count  Dtype  \n",
            "---  ------       --------------  -----  \n",
            " 0   id           10858 non-null  int64  \n",
            " 1   name         10858 non-null  object \n",
            " 2   nationality  10858 non-null  object \n",
            " 3   sex          10858 non-null  object \n",
            " 4   dob          10858 non-null  object \n",
            " 5   height       10858 non-null  float64\n",
            " 6   weight       10858 non-null  float64\n",
            " 7   sport        10858 non-null  object \n",
            " 8   gold         10858 non-null  int64  \n",
            " 9   silver       10858 non-null  int64  \n",
            " 10  bronze       10858 non-null  int64  \n",
            "dtypes: float64(2), int64(4), object(5)\n",
            "memory usage: 1017.9+ KB\n"
          ]
        }
      ]
    },
    {
      "cell_type": "code",
      "source": [
        "#выберем признаки, по которым будем обучать модель\n",
        "X = ['height', 'sport']"
      ],
      "metadata": {
        "id": "5q5mVWDVRhaP"
      },
      "execution_count": 34,
      "outputs": []
    },
    {
      "cell_type": "code",
      "source": [
        "# тк признак sport - категориальная переменная, преобразуем ее в значения 0 и 1\n",
        "X = pd.get_dummies(df[X])"
      ],
      "metadata": {
        "id": "jXZai3a2RhdX"
      },
      "execution_count": 35,
      "outputs": []
    },
    {
      "cell_type": "code",
      "source": [
        "X.head()"
      ],
      "metadata": {
        "colab": {
          "base_uri": "https://localhost:8080/",
          "height": 317
        },
        "id": "Gre3DLQdTRz8",
        "outputId": "d3daa7fc-06dd-42d0-949a-ea1678ec17a7"
      },
      "execution_count": 42,
      "outputs": [
        {
          "output_type": "execute_result",
          "data": {
            "text/plain": [
              "   height  sport_aquatics  sport_archery  sport_athletics  sport_badminton  \\\n",
              "0    1.72               0              0                1                0   \n",
              "1    1.68               0              0                0                0   \n",
              "2    1.98               0              0                1                0   \n",
              "3    1.83               0              0                0                0   \n",
              "4    1.81               0              0                0                0   \n",
              "\n",
              "   sport_basketball  sport_canoe  sport_cycling  sport_equestrian  \\\n",
              "0                 0            0              0                 0   \n",
              "1                 0            0              0                 0   \n",
              "2                 0            0              0                 0   \n",
              "3                 0            0              0                 0   \n",
              "4                 0            0              1                 0   \n",
              "\n",
              "   sport_fencing  ...  sport_rugby sevens  sport_sailing  sport_shooting  \\\n",
              "0              0  ...                   0              0               0   \n",
              "1              1  ...                   0              0               0   \n",
              "2              0  ...                   0              0               0   \n",
              "3              0  ...                   0              0               0   \n",
              "4              0  ...                   0              0               0   \n",
              "\n",
              "   sport_table tennis  sport_taekwondo  sport_tennis  sport_triathlon  \\\n",
              "0                   0                0             0                0   \n",
              "1                   0                0             0                0   \n",
              "2                   0                0             0                0   \n",
              "3                   0                1             0                0   \n",
              "4                   0                0             0                0   \n",
              "\n",
              "   sport_volleyball  sport_weightlifting  sport_wrestling  \n",
              "0                 0                    0                0  \n",
              "1                 0                    0                0  \n",
              "2                 0                    0                0  \n",
              "3                 0                    0                0  \n",
              "4                 0                    0                0  \n",
              "\n",
              "[5 rows x 28 columns]"
            ],
            "text/html": [
              "\n",
              "  <div id=\"df-d82c6fb1-cf5c-4dc7-9bce-b547e18dac99\">\n",
              "    <div class=\"colab-df-container\">\n",
              "      <div>\n",
              "<style scoped>\n",
              "    .dataframe tbody tr th:only-of-type {\n",
              "        vertical-align: middle;\n",
              "    }\n",
              "\n",
              "    .dataframe tbody tr th {\n",
              "        vertical-align: top;\n",
              "    }\n",
              "\n",
              "    .dataframe thead th {\n",
              "        text-align: right;\n",
              "    }\n",
              "</style>\n",
              "<table border=\"1\" class=\"dataframe\">\n",
              "  <thead>\n",
              "    <tr style=\"text-align: right;\">\n",
              "      <th></th>\n",
              "      <th>height</th>\n",
              "      <th>sport_aquatics</th>\n",
              "      <th>sport_archery</th>\n",
              "      <th>sport_athletics</th>\n",
              "      <th>sport_badminton</th>\n",
              "      <th>sport_basketball</th>\n",
              "      <th>sport_canoe</th>\n",
              "      <th>sport_cycling</th>\n",
              "      <th>sport_equestrian</th>\n",
              "      <th>sport_fencing</th>\n",
              "      <th>...</th>\n",
              "      <th>sport_rugby sevens</th>\n",
              "      <th>sport_sailing</th>\n",
              "      <th>sport_shooting</th>\n",
              "      <th>sport_table tennis</th>\n",
              "      <th>sport_taekwondo</th>\n",
              "      <th>sport_tennis</th>\n",
              "      <th>sport_triathlon</th>\n",
              "      <th>sport_volleyball</th>\n",
              "      <th>sport_weightlifting</th>\n",
              "      <th>sport_wrestling</th>\n",
              "    </tr>\n",
              "  </thead>\n",
              "  <tbody>\n",
              "    <tr>\n",
              "      <th>0</th>\n",
              "      <td>1.72</td>\n",
              "      <td>0</td>\n",
              "      <td>0</td>\n",
              "      <td>1</td>\n",
              "      <td>0</td>\n",
              "      <td>0</td>\n",
              "      <td>0</td>\n",
              "      <td>0</td>\n",
              "      <td>0</td>\n",
              "      <td>0</td>\n",
              "      <td>...</td>\n",
              "      <td>0</td>\n",
              "      <td>0</td>\n",
              "      <td>0</td>\n",
              "      <td>0</td>\n",
              "      <td>0</td>\n",
              "      <td>0</td>\n",
              "      <td>0</td>\n",
              "      <td>0</td>\n",
              "      <td>0</td>\n",
              "      <td>0</td>\n",
              "    </tr>\n",
              "    <tr>\n",
              "      <th>1</th>\n",
              "      <td>1.68</td>\n",
              "      <td>0</td>\n",
              "      <td>0</td>\n",
              "      <td>0</td>\n",
              "      <td>0</td>\n",
              "      <td>0</td>\n",
              "      <td>0</td>\n",
              "      <td>0</td>\n",
              "      <td>0</td>\n",
              "      <td>1</td>\n",
              "      <td>...</td>\n",
              "      <td>0</td>\n",
              "      <td>0</td>\n",
              "      <td>0</td>\n",
              "      <td>0</td>\n",
              "      <td>0</td>\n",
              "      <td>0</td>\n",
              "      <td>0</td>\n",
              "      <td>0</td>\n",
              "      <td>0</td>\n",
              "      <td>0</td>\n",
              "    </tr>\n",
              "    <tr>\n",
              "      <th>2</th>\n",
              "      <td>1.98</td>\n",
              "      <td>0</td>\n",
              "      <td>0</td>\n",
              "      <td>1</td>\n",
              "      <td>0</td>\n",
              "      <td>0</td>\n",
              "      <td>0</td>\n",
              "      <td>0</td>\n",
              "      <td>0</td>\n",
              "      <td>0</td>\n",
              "      <td>...</td>\n",
              "      <td>0</td>\n",
              "      <td>0</td>\n",
              "      <td>0</td>\n",
              "      <td>0</td>\n",
              "      <td>0</td>\n",
              "      <td>0</td>\n",
              "      <td>0</td>\n",
              "      <td>0</td>\n",
              "      <td>0</td>\n",
              "      <td>0</td>\n",
              "    </tr>\n",
              "    <tr>\n",
              "      <th>3</th>\n",
              "      <td>1.83</td>\n",
              "      <td>0</td>\n",
              "      <td>0</td>\n",
              "      <td>0</td>\n",
              "      <td>0</td>\n",
              "      <td>0</td>\n",
              "      <td>0</td>\n",
              "      <td>0</td>\n",
              "      <td>0</td>\n",
              "      <td>0</td>\n",
              "      <td>...</td>\n",
              "      <td>0</td>\n",
              "      <td>0</td>\n",
              "      <td>0</td>\n",
              "      <td>0</td>\n",
              "      <td>1</td>\n",
              "      <td>0</td>\n",
              "      <td>0</td>\n",
              "      <td>0</td>\n",
              "      <td>0</td>\n",
              "      <td>0</td>\n",
              "    </tr>\n",
              "    <tr>\n",
              "      <th>4</th>\n",
              "      <td>1.81</td>\n",
              "      <td>0</td>\n",
              "      <td>0</td>\n",
              "      <td>0</td>\n",
              "      <td>0</td>\n",
              "      <td>0</td>\n",
              "      <td>0</td>\n",
              "      <td>1</td>\n",
              "      <td>0</td>\n",
              "      <td>0</td>\n",
              "      <td>...</td>\n",
              "      <td>0</td>\n",
              "      <td>0</td>\n",
              "      <td>0</td>\n",
              "      <td>0</td>\n",
              "      <td>0</td>\n",
              "      <td>0</td>\n",
              "      <td>0</td>\n",
              "      <td>0</td>\n",
              "      <td>0</td>\n",
              "      <td>0</td>\n",
              "    </tr>\n",
              "  </tbody>\n",
              "</table>\n",
              "<p>5 rows × 28 columns</p>\n",
              "</div>\n",
              "      <button class=\"colab-df-convert\" onclick=\"convertToInteractive('df-d82c6fb1-cf5c-4dc7-9bce-b547e18dac99')\"\n",
              "              title=\"Convert this dataframe to an interactive table.\"\n",
              "              style=\"display:none;\">\n",
              "        \n",
              "  <svg xmlns=\"http://www.w3.org/2000/svg\" height=\"24px\"viewBox=\"0 0 24 24\"\n",
              "       width=\"24px\">\n",
              "    <path d=\"M0 0h24v24H0V0z\" fill=\"none\"/>\n",
              "    <path d=\"M18.56 5.44l.94 2.06.94-2.06 2.06-.94-2.06-.94-.94-2.06-.94 2.06-2.06.94zm-11 1L8.5 8.5l.94-2.06 2.06-.94-2.06-.94L8.5 2.5l-.94 2.06-2.06.94zm10 10l.94 2.06.94-2.06 2.06-.94-2.06-.94-.94-2.06-.94 2.06-2.06.94z\"/><path d=\"M17.41 7.96l-1.37-1.37c-.4-.4-.92-.59-1.43-.59-.52 0-1.04.2-1.43.59L10.3 9.45l-7.72 7.72c-.78.78-.78 2.05 0 2.83L4 21.41c.39.39.9.59 1.41.59.51 0 1.02-.2 1.41-.59l7.78-7.78 2.81-2.81c.8-.78.8-2.07 0-2.86zM5.41 20L4 18.59l7.72-7.72 1.47 1.35L5.41 20z\"/>\n",
              "  </svg>\n",
              "      </button>\n",
              "      \n",
              "  <style>\n",
              "    .colab-df-container {\n",
              "      display:flex;\n",
              "      flex-wrap:wrap;\n",
              "      gap: 12px;\n",
              "    }\n",
              "\n",
              "    .colab-df-convert {\n",
              "      background-color: #E8F0FE;\n",
              "      border: none;\n",
              "      border-radius: 50%;\n",
              "      cursor: pointer;\n",
              "      display: none;\n",
              "      fill: #1967D2;\n",
              "      height: 32px;\n",
              "      padding: 0 0 0 0;\n",
              "      width: 32px;\n",
              "    }\n",
              "\n",
              "    .colab-df-convert:hover {\n",
              "      background-color: #E2EBFA;\n",
              "      box-shadow: 0px 1px 2px rgba(60, 64, 67, 0.3), 0px 1px 3px 1px rgba(60, 64, 67, 0.15);\n",
              "      fill: #174EA6;\n",
              "    }\n",
              "\n",
              "    [theme=dark] .colab-df-convert {\n",
              "      background-color: #3B4455;\n",
              "      fill: #D2E3FC;\n",
              "    }\n",
              "\n",
              "    [theme=dark] .colab-df-convert:hover {\n",
              "      background-color: #434B5C;\n",
              "      box-shadow: 0px 1px 3px 1px rgba(0, 0, 0, 0.15);\n",
              "      filter: drop-shadow(0px 1px 2px rgba(0, 0, 0, 0.3));\n",
              "      fill: #FFFFFF;\n",
              "    }\n",
              "  </style>\n",
              "\n",
              "      <script>\n",
              "        const buttonEl =\n",
              "          document.querySelector('#df-d82c6fb1-cf5c-4dc7-9bce-b547e18dac99 button.colab-df-convert');\n",
              "        buttonEl.style.display =\n",
              "          google.colab.kernel.accessAllowed ? 'block' : 'none';\n",
              "\n",
              "        async function convertToInteractive(key) {\n",
              "          const element = document.querySelector('#df-d82c6fb1-cf5c-4dc7-9bce-b547e18dac99');\n",
              "          const dataTable =\n",
              "            await google.colab.kernel.invokeFunction('convertToInteractive',\n",
              "                                                     [key], {});\n",
              "          if (!dataTable) return;\n",
              "\n",
              "          const docLinkHtml = 'Like what you see? Visit the ' +\n",
              "            '<a target=\"_blank\" href=https://colab.research.google.com/notebooks/data_table.ipynb>data table notebook</a>'\n",
              "            + ' to learn more about interactive tables.';\n",
              "          element.innerHTML = '';\n",
              "          dataTable['output_type'] = 'display_data';\n",
              "          await google.colab.output.renderOutput(dataTable, element);\n",
              "          const docLink = document.createElement('div');\n",
              "          docLink.innerHTML = docLinkHtml;\n",
              "          element.appendChild(docLink);\n",
              "        }\n",
              "      </script>\n",
              "    </div>\n",
              "  </div>\n",
              "  "
            ]
          },
          "metadata": {},
          "execution_count": 42
        }
      ]
    },
    {
      "cell_type": "code",
      "source": [
        "# преобразуем целевую переменную в значения 0 и 1\n",
        "le = LabelEncoder()\n",
        "y = pd.Series(le.fit_transform(df['sex']))"
      ],
      "metadata": {
        "id": "BAxX-f2vRhi1"
      },
      "execution_count": 40,
      "outputs": []
    },
    {
      "cell_type": "code",
      "source": [
        "y"
      ],
      "metadata": {
        "colab": {
          "base_uri": "https://localhost:8080/"
        },
        "id": "QUZkBV9bRhm2",
        "outputId": "92df1721-6b93-4ed1-e6ed-40068605602c"
      },
      "execution_count": 41,
      "outputs": [
        {
          "output_type": "execute_result",
          "data": {
            "text/plain": [
              "0        1\n",
              "1        0\n",
              "2        1\n",
              "3        1\n",
              "4        1\n",
              "        ..\n",
              "10853    0\n",
              "10854    0\n",
              "10855    1\n",
              "10856    1\n",
              "10857    1\n",
              "Length: 10858, dtype: int64"
            ]
          },
          "metadata": {},
          "execution_count": 41
        }
      ]
    },
    {
      "cell_type": "code",
      "source": [
        "# Разбиваем данные на обучающую и тестовую выборки в соотношении 80 / 20\n",
        "X_train, X_test, y_train, y_test = train_test_split(X, y, test_size=0.20,  random_state=42)"
      ],
      "metadata": {
        "id": "4nMI65boRhpW"
      },
      "execution_count": 49,
      "outputs": []
    },
    {
      "cell_type": "code",
      "source": [
        "# обучаем модель\n",
        "model = LogisticRegression()\n",
        "model.fit(X_train,  y_train)\n",
        "#Получаем прогнозные значения модели (переменная y_pred)\n",
        "y_pred = model.predict_proba(X_test)"
      ],
      "metadata": {
        "id": "snQMy8d7TOT1"
      },
      "execution_count": 50,
      "outputs": []
    },
    {
      "cell_type": "code",
      "source": [
        "# получаем значения false и true positive rate для различных значений порога\n",
        "fpr, tpr, thres = roc_curve(y_test, y_pred[:, 1])"
      ],
      "metadata": {
        "id": "-hP5VpEgTOWv"
      },
      "execution_count": 85,
      "outputs": []
    },
    {
      "cell_type": "code",
      "source": [
        "# Строим ROC кривую\n",
        "plt.plot(fpr, tpr, label = 'ROC curve')\n",
        "plt.xlabel('False Positive Rate')\n",
        "plt.ylabel('True Positive Rate')\n",
        "plt.legend()\n",
        "plt.grid()\n",
        "plt.show()"
      ],
      "metadata": {
        "colab": {
          "base_uri": "https://localhost:8080/",
          "height": 279
        },
        "id": "PagUsAYWTOZr",
        "outputId": "dfb7ad3b-db6f-475a-9c72-f5730ae82fc3"
      },
      "execution_count": 86,
      "outputs": [
        {
          "output_type": "display_data",
          "data": {
            "text/plain": [
              "<Figure size 432x288 with 1 Axes>"
            ],
            "image/png": "[encoded data removed]"
          },
          "metadata": {
            "needs_background": "light"
          }
        }
      ]
    },
    {
      "cell_type": "code",
      "source": [
        "# Площадь под ROC кривой\n",
        "roc_auc_score(y_test, y_pred[:, 1])"
      ],
      "metadata": {
        "colab": {
          "base_uri": "https://localhost:8080/"
        },
        "id": "BAN62ZITTOb_",
        "outputId": "6c3e80ab-72c7-4a06-c634-3a936f0cf860"
      },
      "execution_count": 108,
      "outputs": [
        {
          "output_type": "execute_result",
          "data": {
            "text/plain": [
              "0.8725055432372505"
            ]
          },
          "metadata": {},
          "execution_count": 108
        }
      ]
    },
    {
      "cell_type": "markdown",
      "source": [
        "**Рассчитаем вручную метрики FPR и TPR для порогового значения 0.5**"
      ],
      "metadata": {
        "id": "14A6ywXXYB6Z"
      }
    },
    {
      "cell_type": "code",
      "source": [
        "tp = 0 # True positive\n",
        "fp = 0 # False positive\n",
        "fn = 0 # False negative\n",
        "tn = 0 # True negative\n",
        "\n",
        "predictions = model.predict_proba( X_test )\n",
        "predicted = [1 if i >= 0.5 else 0 for i in predictions[:, 1]]\n",
        "for predicted, actual in zip(predicted, y_test ):    \n",
        "    \n",
        "    if predicted == 1:\n",
        "        if actual == 1:\n",
        "            tp += 1\n",
        "        else:\n",
        "            fp += 1\n",
        "    \n",
        "    else:\n",
        "        if actual == 1:\n",
        "            fn += 1\n",
        "        else:\n",
        "            tn += 1\n",
        "FPR = fp/(fp+tn)\n",
        "TPR = tp/(tp+fn)    \n",
        "print('FPR',FPR )  \n",
        "print('TPR',TPR )       "
      ],
      "metadata": {
        "colab": {
          "base_uri": "https://localhost:8080/"
        },
        "id": "VhffWxxQX3Fq",
        "outputId": "689073ad-0e1d-48ce-d235-6480269a3bef"
      },
      "execution_count": 77,
      "outputs": [
        {
          "output_type": "stream",
          "name": "stdout",
          "text": [
            "FPR 0.22865853658536586\n",
            "TPR 0.8089225589225589\n"
          ]
        }
      ]
    },
    {
      "cell_type": "markdown",
      "source": [
        "**Построим ROC-кривую с помощью вычисленных метрик**"
      ],
      "metadata": {
        "id": "RTJn_5Mok919"
      }
    },
    {
      "cell_type": "code",
      "source": [
        "# сложим в списки значения, на основе которых будем строить кривую\n",
        "\n",
        "predictions = model.predict_proba( X_test )\n",
        "fpr_counted = []\n",
        "tpr_counted =[]\n",
        "thres_counted = []\n",
        "precision = []\n",
        "recall = []\n",
        "for j in np.arange(0.1, 1.04, 0.05):\n",
        "    tp = 0 # True positive\n",
        "    fp = 0 # False positive\n",
        "    fn = 0 # False negative\n",
        "    tn = 0 # True negative\n",
        "    predicted = [1 if i >= j else 0 for i in predictions[:, 1]]\n",
        "    for predicted, actual in zip(predicted, y_test ):    \n",
        "    \n",
        "        if predicted == 1:\n",
        "            if actual == 1:\n",
        "                tp += 1\n",
        "            else:\n",
        "                fp += 1\n",
        "    \n",
        "        else:\n",
        "            if actual == 1:\n",
        "                fn += 1\n",
        "            else:\n",
        "                tn += 1\n",
        "    fpr_counted.append(fp/(fp+tn))\n",
        "    tpr_counted.append(tp/(tp+fn))\n",
        "    thres_counted.append(j)\n",
        "    if (tp + fp)>0: \n",
        "        precision.append(tp / (tp + fp))\n",
        "        recall.append(tp/(tp+fn))\n"
      ],
      "metadata": {
        "id": "-YTfIeu4iH6S"
      },
      "execution_count": 96,
      "outputs": []
    },
    {
      "cell_type": "code",
      "source": [
        "\n"
      ],
      "metadata": {
        "colab": {
          "base_uri": "https://localhost:8080/"
        },
        "id": "a9UEf1P1mYB9",
        "outputId": "c840df14-8131-46b3-9c43-c0045f7a4c4d"
      },
      "execution_count": 95,
      "outputs": [
        {
          "output_type": "execute_result",
          "data": {
            "text/plain": [
              "0"
            ]
          },
          "metadata": {},
          "execution_count": 95
        }
      ]
    },
    {
      "cell_type": "code",
      "source": [
        "# Строим ROC кривые\n",
        "# Кривая, построенная при помощи библиотеки, совпала с кривой, построенной вручную  \n",
        "plt.plot(fpr, tpr, label = 'ROC curve')\n",
        "plt.plot(fpr_counted, tpr_counted, label = 'ROC curve counted')\n",
        "plt.xlabel('False Positive Rate')\n",
        "plt.ylabel('True Positive Rate')\n",
        "plt.legend()\n",
        "plt.grid()\n",
        "plt.show()"
      ],
      "metadata": {
        "colab": {
          "base_uri": "https://localhost:8080/",
          "height": 279
        },
        "id": "pZAONgKbiH9c",
        "outputId": "f3079102-c9c3-4387-fe8d-9fdf82d3d1fc"
      },
      "execution_count": 90,
      "outputs": [
        {
          "output_type": "display_data",
          "data": {
            "text/plain": [
              "<Figure size 432x288 with 1 Axes>"
            ],
            "image/png": "[encoded data removed]"
          },
          "metadata": {
            "needs_background": "light"
          }
        }
      ]
    },
    {
      "cell_type": "code",
      "source": [
        "# Строим Precision Recall curve\n",
        "# Кривая, построенная при помощи библиотеки, совпала с кривой, построенной вручную  \n",
        "plt.plot(recall, precision, label = 'Precision Recall curve')\n",
        "plt.xlabel('Recall')\n",
        "plt.ylabel('Precision')\n",
        "plt.legend()\n",
        "plt.grid()\n",
        "plt.show()"
      ],
      "metadata": {
        "colab": {
          "base_uri": "https://localhost:8080/",
          "height": 279
        },
        "id": "2MmEsr2xfVL5",
        "outputId": "c5745f35-6eb7-4687-d253-0da7768b4f06"
      },
      "execution_count": 97,
      "outputs": [
        {
          "output_type": "display_data",
          "data": {
            "text/plain": [
              "<Figure size 432x288 with 1 Axes>"
            ],
            "image/png": "[encoded data removed]"
          },
          "metadata": {
            "needs_background": "light"
          }
        }
      ]
    },
    {
      "cell_type": "code",
      "source": [
        "# сложим метрики в Дата Фрейм\n",
        " = pd.DataFrame([tpr_counted, fpr_counted, thres_counted]).T\n",
        "metrics.columns = ['tpr', 'fpr', 'thres']"
      ],
      "metadata": {
        "id": "AQe65dvSfVOb"
      },
      "execution_count": 103,
      "outputs": []
    },
    {
      "cell_type": "code",
      "source": [
        "# рассчитаем максимально возможное значение параметра tpr + 1- fpr (доля истинно положительных+доля истинно отрицательных)\n",
        "# максимальное значение достигается при пороговом значении 0,5\n",
        "metrics['res'] = metrics['tpr']+ 1- metrics['fpr']\n",
        "metrics.sort_values(by = ['res'], ascending = False)"
      ],
      "metadata": {
        "colab": {
          "base_uri": "https://localhost:8080/",
          "height": 645
        },
        "id": "YlFar_NEYLxJ",
        "outputId": "912ccb64-01cf-495e-ec01-5d30d0a09f8b"
      },
      "execution_count": 107,
      "outputs": [
        {
          "output_type": "execute_result",
          "data": {
            "text/plain": [
              "         tpr       fpr  thres       res\n",
              "8   0.808923  0.228659   0.50  1.580264\n",
              "9   0.757576  0.183943   0.55  1.573633\n",
              "10  0.717172  0.146341   0.60  1.570830\n",
              "11  0.677609  0.118902   0.65  1.558707\n",
              "7   0.847643  0.291667   0.45  1.555976\n",
              "12  0.609428  0.083333   0.70  1.526094\n",
              "6   0.879630  0.361789   0.40  1.517841\n",
              "13  0.536195  0.052846   0.75  1.483350\n",
              "5   0.904882  0.425813   0.35  1.479069\n",
              "4   0.933502  0.482724   0.30  1.450778\n",
              "14  0.468013  0.033537   0.80  1.434477\n",
              "3   0.956229  0.549797   0.25  1.406432\n",
              "15  0.380471  0.018293   0.85  1.362179\n",
              "2   0.971380  0.610772   0.20  1.360608\n",
              "1   0.984848  0.726626   0.15  1.258222\n",
              "16  0.261785  0.006098   0.90  1.255687\n",
              "0   0.990741  0.836382   0.10  1.154359\n",
              "17  0.099327  0.001016   0.95  1.098310\n",
              "18  0.000000  0.000000   1.00  1.000000"
            ],
            "text/html": [
              "\n",
              "  <div id=\"df-457404bf-62d3-4081-ae42-c4d5e91746a5\">\n",
              "    <div class=\"colab-df-container\">\n",
              "      <div>\n",
              "<style scoped>\n",
              "    .dataframe tbody tr th:only-of-type {\n",
              "        vertical-align: middle;\n",
              "    }\n",
              "\n",
              "    .dataframe tbody tr th {\n",
              "        vertical-align: top;\n",
              "    }\n",
              "\n",
              "    .dataframe thead th {\n",
              "        text-align: right;\n",
              "    }\n",
              "</style>\n",
              "<table border=\"1\" class=\"dataframe\">\n",
              "  <thead>\n",
              "    <tr style=\"text-align: right;\">\n",
              "      <th></th>\n",
              "      <th>tpr</th>\n",
              "      <th>fpr</th>\n",
              "      <th>thres</th>\n",
              "      <th>res</th>\n",
              "    </tr>\n",
              "  </thead>\n",
              "  <tbody>\n",
              "    <tr>\n",
              "      <th>8</th>\n",
              "      <td>0.808923</td>\n",
              "      <td>0.228659</td>\n",
              "      <td>0.50</td>\n",
              "      <td>1.580264</td>\n",
              "    </tr>\n",
              "    <tr>\n",
              "      <th>9</th>\n",
              "      <td>0.757576</td>\n",
              "      <td>0.183943</td>\n",
              "      <td>0.55</td>\n",
              "      <td>1.573633</td>\n",
              "    </tr>\n",
              "    <tr>\n",
              "      <th>10</th>\n",
              "      <td>0.717172</td>\n",
              "      <td>0.146341</td>\n",
              "      <td>0.60</td>\n",
              "      <td>1.570830</td>\n",
              "    </tr>\n",
              "    <tr>\n",
              "      <th>11</th>\n",
              "      <td>0.677609</td>\n",
              "      <td>0.118902</td>\n",
              "      <td>0.65</td>\n",
              "      <td>1.558707</td>\n",
              "    </tr>\n",
              "    <tr>\n",
              "      <th>7</th>\n",
              "      <td>0.847643</td>\n",
              "      <td>0.291667</td>\n",
              "      <td>0.45</td>\n",
              "      <td>1.555976</td>\n",
              "    </tr>\n",
              "    <tr>\n",
              "      <th>12</th>\n",
              "      <td>0.609428</td>\n",
              "      <td>0.083333</td>\n",
              "      <td>0.70</td>\n",
              "      <td>1.526094</td>\n",
              "    </tr>\n",
              "    <tr>\n",
              "      <th>6</th>\n",
              "      <td>0.879630</td>\n",
              "      <td>0.361789</td>\n",
              "      <td>0.40</td>\n",
              "      <td>1.517841</td>\n",
              "    </tr>\n",
              "    <tr>\n",
              "      <th>13</th>\n",
              "      <td>0.536195</td>\n",
              "      <td>0.052846</td>\n",
              "      <td>0.75</td>\n",
              "      <td>1.483350</td>\n",
              "    </tr>\n",
              "    <tr>\n",
              "      <th>5</th>\n",
              "      <td>0.904882</td>\n",
              "      <td>0.425813</td>\n",
              "      <td>0.35</td>\n",
              "      <td>1.479069</td>\n",
              "    </tr>\n",
              "    <tr>\n",
              "      <th>4</th>\n",
              "      <td>0.933502</td>\n",
              "      <td>0.482724</td>\n",
              "      <td>0.30</td>\n",
              "      <td>1.450778</td>\n",
              "    </tr>\n",
              "    <tr>\n",
              "      <th>14</th>\n",
              "      <td>0.468013</td>\n",
              "      <td>0.033537</td>\n",
              "      <td>0.80</td>\n",
              "      <td>1.434477</td>\n",
              "    </tr>\n",
              "    <tr>\n",
              "      <th>3</th>\n",
              "      <td>0.956229</td>\n",
              "      <td>0.549797</td>\n",
              "      <td>0.25</td>\n",
              "      <td>1.406432</td>\n",
              "    </tr>\n",
              "    <tr>\n",
              "      <th>15</th>\n",
              "      <td>0.380471</td>\n",
              "      <td>0.018293</td>\n",
              "      <td>0.85</td>\n",
              "      <td>1.362179</td>\n",
              "    </tr>\n",
              "    <tr>\n",
              "      <th>2</th>\n",
              "      <td>0.971380</td>\n",
              "      <td>0.610772</td>\n",
              "      <td>0.20</td>\n",
              "      <td>1.360608</td>\n",
              "    </tr>\n",
              "    <tr>\n",
              "      <th>1</th>\n",
              "      <td>0.984848</td>\n",
              "      <td>0.726626</td>\n",
              "      <td>0.15</td>\n",
              "      <td>1.258222</td>\n",
              "    </tr>\n",
              "    <tr>\n",
              "      <th>16</th>\n",
              "      <td>0.261785</td>\n",
              "      <td>0.006098</td>\n",
              "      <td>0.90</td>\n",
              "      <td>1.255687</td>\n",
              "    </tr>\n",
              "    <tr>\n",
              "      <th>0</th>\n",
              "      <td>0.990741</td>\n",
              "      <td>0.836382</td>\n",
              "      <td>0.10</td>\n",
              "      <td>1.154359</td>\n",
              "    </tr>\n",
              "    <tr>\n",
              "      <th>17</th>\n",
              "      <td>0.099327</td>\n",
              "      <td>0.001016</td>\n",
              "      <td>0.95</td>\n",
              "      <td>1.098310</td>\n",
              "    </tr>\n",
              "    <tr>\n",
              "      <th>18</th>\n",
              "      <td>0.000000</td>\n",
              "      <td>0.000000</td>\n",
              "      <td>1.00</td>\n",
              "      <td>1.000000</td>\n",
              "    </tr>\n",
              "  </tbody>\n",
              "</table>\n",
              "</div>\n",
              "      <button class=\"colab-df-convert\" onclick=\"convertToInteractive('df-457404bf-62d3-4081-ae42-c4d5e91746a5')\"\n",
              "              title=\"Convert this dataframe to an interactive table.\"\n",
              "              style=\"display:none;\">\n",
              "        \n",
              "  <svg xmlns=\"http://www.w3.org/2000/svg\" height=\"24px\"viewBox=\"0 0 24 24\"\n",
              "       width=\"24px\">\n",
              "    <path d=\"M0 0h24v24H0V0z\" fill=\"none\"/>\n",
              "    <path d=\"M18.56 5.44l.94 2.06.94-2.06 2.06-.94-2.06-.94-.94-2.06-.94 2.06-2.06.94zm-11 1L8.5 8.5l.94-2.06 2.06-.94-2.06-.94L8.5 2.5l-.94 2.06-2.06.94zm10 10l.94 2.06.94-2.06 2.06-.94-2.06-.94-.94-2.06-.94 2.06-2.06.94z\"/><path d=\"M17.41 7.96l-1.37-1.37c-.4-.4-.92-.59-1.43-.59-.52 0-1.04.2-1.43.59L10.3 9.45l-7.72 7.72c-.78.78-.78 2.05 0 2.83L4 21.41c.39.39.9.59 1.41.59.51 0 1.02-.2 1.41-.59l7.78-7.78 2.81-2.81c.8-.78.8-2.07 0-2.86zM5.41 20L4 18.59l7.72-7.72 1.47 1.35L5.41 20z\"/>\n",
              "  </svg>\n",
              "      </button>\n",
              "      \n",
              "  <style>\n",
              "    .colab-df-container {\n",
              "      display:flex;\n",
              "      flex-wrap:wrap;\n",
              "      gap: 12px;\n",
              "    }\n",
              "\n",
              "    .colab-df-convert {\n",
              "      background-color: #E8F0FE;\n",
              "      border: none;\n",
              "      border-radius: 50%;\n",
              "      cursor: pointer;\n",
              "      display: none;\n",
              "      fill: #1967D2;\n",
              "      height: 32px;\n",
              "      padding: 0 0 0 0;\n",
              "      width: 32px;\n",
              "    }\n",
              "\n",
              "    .colab-df-convert:hover {\n",
              "      background-color: #E2EBFA;\n",
              "      box-shadow: 0px 1px 2px rgba(60, 64, 67, 0.3), 0px 1px 3px 1px rgba(60, 64, 67, 0.15);\n",
              "      fill: #174EA6;\n",
              "    }\n",
              "\n",
              "    [theme=dark] .colab-df-convert {\n",
              "      background-color: #3B4455;\n",
              "      fill: #D2E3FC;\n",
              "    }\n",
              "\n",
              "    [theme=dark] .colab-df-convert:hover {\n",
              "      background-color: #434B5C;\n",
              "      box-shadow: 0px 1px 3px 1px rgba(0, 0, 0, 0.15);\n",
              "      filter: drop-shadow(0px 1px 2px rgba(0, 0, 0, 0.3));\n",
              "      fill: #FFFFFF;\n",
              "    }\n",
              "  </style>\n",
              "\n",
              "      <script>\n",
              "        const buttonEl =\n",
              "          document.querySelector('#df-457404bf-62d3-4081-ae42-c4d5e91746a5 button.colab-df-convert');\n",
              "        buttonEl.style.display =\n",
              "          google.colab.kernel.accessAllowed ? 'block' : 'none';\n",
              "\n",
              "        async function convertToInteractive(key) {\n",
              "          const element = document.querySelector('#df-457404bf-62d3-4081-ae42-c4d5e91746a5');\n",
              "          const dataTable =\n",
              "            await google.colab.kernel.invokeFunction('convertToInteractive',\n",
              "                                                     [key], {});\n",
              "          if (!dataTable) return;\n",
              "\n",
              "          const docLinkHtml = 'Like what you see? Visit the ' +\n",
              "            '<a target=\"_blank\" href=https://colab.research.google.com/notebooks/data_table.ipynb>data table notebook</a>'\n",
              "            + ' to learn more about interactive tables.';\n",
              "          element.innerHTML = '';\n",
              "          dataTable['output_type'] = 'display_data';\n",
              "          await google.colab.output.renderOutput(dataTable, element);\n",
              "          const docLink = document.createElement('div');\n",
              "          docLink.innerHTML = docLinkHtml;\n",
              "          element.appendChild(docLink);\n",
              "        }\n",
              "      </script>\n",
              "    </div>\n",
              "  </div>\n",
              "  "
            ]
          },
          "metadata": {},
          "execution_count": 107
        }
      ]
    },
    {
      "cell_type": "markdown",
      "source": [
        "**В идеальном случае, когда классификатор не делает ошибок (FPR = 0, TPR = 1) мы получим площадь под кривой, равную единице; \n",
        "в противном случае, когда классификатор случайно выдает вероятности классов, \n",
        "AUC-ROC будет стремиться к 0.5, так как классификатор будет выдавать одинаковое количество TP и FP\n",
        "Если ROC кривая ниже диагонали - модельнамеренно искажает данные**\n",
        "\n",
        "> ROC AUC = 0.87 - достаточно высокое значение, что говорит о том, что модель работает качественно\n",
        "\n",
        "\n"
      ],
      "metadata": {
        "id": "Xc7gPW4Vs-SV"
      }
    },
    {
      "cell_type": "code",
      "source": [
        "print(classification_report(y_test,model.predict(X_test)))"
      ],
      "metadata": {
        "colab": {
          "base_uri": "https://localhost:8080/"
        },
        "id": "AWHz7k7TKzia",
        "outputId": "f0787b64-2f4a-4397-e604-38cf0f7a8460"
      },
      "execution_count": 98,
      "outputs": [
        {
          "output_type": "stream",
          "name": "stdout",
          "text": [
            "              precision    recall  f1-score   support\n",
            "\n",
            "           0       0.77      0.77      0.77       984\n",
            "           1       0.81      0.81      0.81      1188\n",
            "\n",
            "    accuracy                           0.79      2172\n",
            "   macro avg       0.79      0.79      0.79      2172\n",
            "weighted avg       0.79      0.79      0.79      2172\n",
            "\n"
          ]
        }
      ]
    }
  ]
}